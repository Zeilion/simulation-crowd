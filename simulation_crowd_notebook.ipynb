{
 "cells": [
  {
   "cell_type": "markdown",
   "id": "5944fe34-0478-4db1-8f5b-610d36b6fe49",
   "metadata": {},
   "source": [
    "***\n",
    "# Simulation de financement participatif\n",
    "*Prototype Pandas*\n",
    "***"
   ]
  },
  {
   "cell_type": "markdown",
   "id": "a8414662-2224-45b4-a32a-138b8265eb61",
   "metadata": {},
   "source": [
    "Le but de ce notebook est de tester une façon d'estimer la réussite du financement participatif d'un projet en fonction de différentes variables."
   ]
  },
  {
   "cell_type": "markdown",
   "id": "750f23d5-0c4b-4b31-a0e0-6e4f290c11fc",
   "metadata": {},
   "source": [
    "**Blocs à réaliser :**\n",
    "- traitement des données en entrée\n",
    "    - création d'une classe CP (contrepartie) ?\n",
    "- construction de la matrice de simulation\n",
    "- affichage\n",
    "- GUI"
   ]
  },
  {
   "cell_type": "markdown",
   "id": "6b38d6be-27ae-4b82-a6ff-a8cf23f5fa70",
   "metadata": {},
   "source": [
    "**Entrées :**\n",
    "- Contreparties (CP) :\n",
    "    - nombre variable selon le projet\n",
    "    - prix et coûts associés\n",
    "    - limites pour le nombre de CP disponibles si besoin\n",
    "    - facteurs de poids statistiques pour l'obtention des différents CP lors de la simulation ?\n",
    "- Pallier :\n",
    "    - rentrer le pallier à atteindre\n",
    "- Frais :\n",
    "    - rentrer les frais de la plateforme\n",
    "    - les frais de port ?\n",
    "- Limite à dépasser pour succès :\n",
    "    - des couts fixes ? (frais d'illustration, d'impression ...) ou un pourcentage sur les vente ? -> sous forme d'une fonction qui apparaîtra sur le graph\n",
    "- Options :\n",
    "    - nombre d'essais aléatoires à réaliser"
   ]
  },
  {
   "cell_type": "markdown",
   "id": "406774c4-59d2-48a6-a613-a47ae1d4cc58",
   "metadata": {},
   "source": [
    "**Sorties :**\n",
    "- en sortie le graph principal\n",
    "- une option pour les graphs des influences des CP ?\n",
    "- une option de sauvegarde/chargement des \"lancés réalisé\" ?\n",
    "- une option pour ajouter sur le graph les quantités obtenues lors du crowd réel pour comparaison ?"
   ]
  },
  {
   "cell_type": "markdown",
   "id": "ff2cfb73-f81a-48e3-8307-75407550104f",
   "metadata": {},
   "source": [
    "**Autres :**\n",
    "- une interface graphique\n",
    "- optimiser le temps d'exécution/RAM utilisée\n",
    "- voir le format de la sauvegarde (CSV, json ... ?)\n",
    "- format image des graphs ?\n",
    "- inclure le résultat avec du texte dans un pdf ?"
   ]
  },
  {
   "cell_type": "markdown",
   "id": "bc6988c4-3fe8-4b24-b1ee-4b3d9b2f9c2b",
   "metadata": {},
   "source": [
    "***\n",
    "## Modules"
   ]
  },
  {
   "cell_type": "code",
   "execution_count": 1,
   "id": "9fe9b295-59da-489e-93c2-3cca6ba573e9",
   "metadata": {},
   "outputs": [],
   "source": [
    "import pandas as pd"
   ]
  },
  {
   "cell_type": "markdown",
   "id": "2fc1bde1-7305-4628-be0c-78b9f2d21e9e",
   "metadata": {},
   "source": []
  }
 ],
 "metadata": {
  "kernelspec": {
   "display_name": "Python 3",
   "language": "python",
   "name": "python3"
  },
  "language_info": {
   "codemirror_mode": {
    "name": "ipython",
    "version": 3
   },
   "file_extension": ".py",
   "mimetype": "text/x-python",
   "name": "python",
   "nbconvert_exporter": "python",
   "pygments_lexer": "ipython3",
   "version": "3.9.2"
  }
 },
 "nbformat": 4,
 "nbformat_minor": 5
}
